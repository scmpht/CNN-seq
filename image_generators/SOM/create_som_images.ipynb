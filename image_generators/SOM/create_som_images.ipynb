{
 "cells": [
  {
   "cell_type": "code",
   "execution_count": 5,
   "metadata": {},
   "outputs": [],
   "source": [
    "import anndata as ad\n",
    "import numpy as np\n",
    "from image_generators.SOM import SOM"
   ]
  },
  {
   "cell_type": "code",
   "execution_count": 6,
   "metadata": {},
   "outputs": [
    {
     "data": {
      "text/plain": [
       "AnnData object with n_obs × n_vars = 1962 × 1539\n",
       "    obs: 'SMTS', 'SMTSD', 'SMNABTCH', 'SMNABTCHT', 'SMNABTCHD', 'SMGEBTCH', 'SMGEBTCHD', 'SMGEBTCHT', 'SMCENTER'\n",
       "    var: 'Symbol'"
      ]
     },
     "execution_count": 6,
     "metadata": {},
     "output_type": "execute_result"
    }
   ],
   "source": [
    "adata = ad.read_h5ad(\"/nobackup/scmpht/CNN-seq/data/model_ready/dummy_GTEx.h5ad\")\n",
    "adata"
   ]
  },
  {
   "cell_type": "code",
   "execution_count": null,
   "metadata": {},
   "outputs": [],
   "source": [
    "# Filter for training data"
   ]
  },
  {
   "cell_type": "code",
   "execution_count": null,
   "metadata": {},
   "outputs": [],
   "source": [
    "# Z-score inputs"
   ]
  },
  {
   "cell_type": "code",
   "execution_count": null,
   "metadata": {},
   "outputs": [],
   "source": [
    "# Create a data loader and run in batches"
   ]
  },
  {
   "cell_type": "code",
   "execution_count": null,
   "metadata": {},
   "outputs": [],
   "source": [
    "# Training grid\n",
    "m = 32\n",
    "n = 32\n",
    "dim = training_colours.shape[1]\n",
    "\n",
    "# Instatiate SOM\n",
    "som = SOM(m, n, dim, decay=0.95, alpha=0.3)\n",
    "\n",
    "\n",
    "max_iter = 200\n",
    "alpha = 0.3\n",
    "best_objective = np.inf\n",
    "patience = 0\n",
    "tolerance = 0.01 * som.get_avg_bmu_dist(training_colours).numpy() # 1% of initial distances\n",
    "\n",
    "def objective_function(distance, changes, alpha=1, beta=1):\n",
    "    return distance*alpha + changes*beta\n",
    "\n",
    "\n",
    "best_objectives = np.array([])\n",
    "avg_distances = np.array([])\n",
    "num_changes = np.array([])\n",
    "\n",
    "bmu_list = som.get_bmus(training_colours)\n",
    "\n",
    "for iter_no in range(max_iter):\n",
    "    \n",
    "    # 1) Perform the training update for this iteration\n",
    "    for i in range(len(training_colours)):\n",
    "        som(training_colours[i], iter_no, GIF=GIF)\n",
    "    \n",
    "    # 2) Compute new average distance\n",
    "    this_avg_dist = som.get_avg_bmu_dist(training_colours).numpy()\n",
    "    avg_distances = np.append(avg_distances, this_avg_dist)\n",
    "\n",
    "    # 3) Compute new changes\n",
    "    bmu_list, changes = som.get_bmu_changes(training_colours, bmu_list)\n",
    "    num_changes = np.append(num_changes, changes)\n",
    "\n",
    "    # 4) Now compute objective using the *freshly computed* values\n",
    "    objective = objective_function(this_avg_dist, changes, alpha=1, beta=0.001)\n",
    "\n",
    "    # 5) Check patience\n",
    "    if objective < best_objective - tolerance:\n",
    "        best_objective = objective\n",
    "        patience = 0\n",
    "    else:\n",
    "        patience += 1\n",
    "\n",
    "    best_objectives = np.append(best_objectives, best_objective)\n",
    "    if patience == 10:\n",
    "        break"
   ]
  },
  {
   "cell_type": "code",
   "execution_count": null,
   "metadata": {},
   "outputs": [],
   "source": [
    "fig, ax1 = plt.subplots()\n",
    "\n",
    "# Plot avg_distances on the first axis (separate y-axis)\n",
    "p1, = ax1.plot(avg_distances, c=\"#46e0bf\", label=\"Distances\")\n",
    "ax1.set_ylabel('Objective')\n",
    "ax1.tick_params(axis='y')\n",
    "ax1.set_xlabel('Epochs')\n",
    "\n",
    "\n",
    "\n",
    "# Add a second y-axis for num_changes and best_objective\n",
    "ax2 = ax1.twinx()\n",
    "\n",
    "# Plot num_changes and best_objective on the same axis\n",
    "p2, = ax2.plot(num_changes, c=\"#8c5dd0\", label=\"Changes\", linestyle='-')\n",
    "p3, = ax1.plot(best_objectives, c=\"#ff6347\", label=\"Objective\", linestyle='--')\n",
    "\n",
    "# Set labels for ax2\n",
    "ax2.set_ylabel('Changes')\n",
    "ax2.tick_params(axis='y')\n",
    "\n",
    "# Add a combined legend for all metrics\n",
    "lines = [p1, p2, p3]\n",
    "labels = [line.get_label() for line in lines]\n",
    "ax1.legend(lines, labels, loc='upper right')\n",
    "\n",
    "# Add a title\n",
    "plt.title(\"Metrics Over Epochs\")\n",
    "plt.show()"
   ]
  }
 ],
 "metadata": {
  "kernelspec": {
   "display_name": "CNN-seq",
   "language": "python",
   "name": "python3"
  },
  "language_info": {
   "codemirror_mode": {
    "name": "ipython",
    "version": 3
   },
   "file_extension": ".py",
   "mimetype": "text/x-python",
   "name": "python",
   "nbconvert_exporter": "python",
   "pygments_lexer": "ipython3",
   "version": "3.10.16"
  }
 },
 "nbformat": 4,
 "nbformat_minor": 2
}
